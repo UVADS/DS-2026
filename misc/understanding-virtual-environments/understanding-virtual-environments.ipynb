{
 "cells": [
  {
   "cell_type": "markdown",
   "id": "573bc7c1",
   "metadata": {},
   "source": [
    "# Getting tripped up with virtual environments\n",
    "\n",
    "As a newcomer to python, I was perplexed by an error that I and some of my students experienced.  Allow me to recreate it: I open a fresh notebook and I go to import `numpy`."
   ]
  },
  {
   "cell_type": "code",
   "execution_count": 1,
   "id": "46d50eef",
   "metadata": {},
   "outputs": [
    {
     "ename": "ModuleNotFoundError",
     "evalue": "No module named 'numpy'",
     "output_type": "error",
     "traceback": [
      "\u001b[1;31m---------------------------------------------------------------------------\u001b[0m\n",
      "\u001b[1;31mModuleNotFoundError\u001b[0m                       Traceback (most recent call last)\n",
      "Cell \u001b[1;32mIn[1], line 1\u001b[0m\n",
      "\u001b[1;32m----> 1\u001b[0m \u001b[38;5;28;01mimport\u001b[39;00m\u001b[38;5;250m \u001b[39m\u001b[38;5;21;01mnumpy\u001b[39;00m\u001b[38;5;250m \u001b[39m\u001b[38;5;28;01mas\u001b[39;00m\u001b[38;5;250m \u001b[39m\u001b[38;5;21;01mnp\u001b[39;00m\n",
      "\n",
      "\u001b[1;31mModuleNotFoundError\u001b[0m: No module named 'numpy'"
     ]
    }
   ],
   "source": [
    "import numpy as np"
   ]
  },
  {
   "cell_type": "markdown",
   "id": "8ccd9a09",
   "metadata": {},
   "source": [
    "**WHAT?**  I've already installed `numpy`?  Why can it not find it?"
   ]
  },
  {
   "cell_type": "markdown",
   "id": "34d84bf8",
   "metadata": {},
   "source": [
    "To add to the madness: If I list the available modules, it appears on the list!"
   ]
  },
  {
   "cell_type": "code",
   "execution_count": 2,
   "id": "65955106",
   "metadata": {},
   "outputs": [
    {
     "name": "stdout",
     "output_type": "stream",
     "text": [
      "Package                   Version\n",
      "------------------------- --------------\n",
      "anyio                     4.10.0\n",
      "appnope                   0.1.4\n",
      "argon2-cffi               25.1.0\n",
      "argon2-cffi-bindings      25.1.0\n",
      "arrow                     1.3.0\n",
      "asttokens                 3.0.0\n",
      "async-lru                 2.0.5\n",
      "attrs                     25.3.0\n",
      "babel                     2.17.0\n",
      "beautifulsoup4            4.13.5\n",
      "bleach                    6.2.0\n",
      "certifi                   2025.8.3\n",
      "cffi                      1.17.1\n",
      "charset-normalizer        3.4.3\n",
      "colorama                  0.4.6\n",
      "comm                      0.2.2\n",
      "contourpy                 1.3.2\n",
      "cycler                    0.12.1\n",
      "debugpy                   1.8.14\n",
      "decorator                 5.2.1\n",
      "defusedxml                0.7.1\n",
      "exceptiongroup            1.3.0\n",
      "executing                 2.2.0\n",
      "fastjsonschema            2.21.2\n",
      "fonttools                 4.58.0\n",
      "fqdn                      1.5.1\n",
      "h11                       0.16.0\n",
      "httpcore                  1.0.9\n",
      "httpx                     0.28.1\n",
      "idna                      3.10\n",
      "importlib_metadata        8.7.0\n",
      "ipykernel                 6.29.5\n",
      "ipython                   8.18.1\n",
      "ipython_pygments_lexers   1.1.1\n",
      "isoduration               20.11.0\n",
      "jedi                      0.19.2\n",
      "Jinja2                    3.1.6\n",
      "json5                     0.12.1\n",
      "jsonpointer               3.0.0\n",
      "jsonschema                4.25.1\n",
      "jsonschema-specifications 2025.4.1\n",
      "jupyter_client            8.6.3\n",
      "jupyter_core              5.8.1\n",
      "jupyter-events            0.12.0\n",
      "jupyter-lsp               2.3.0\n",
      "jupyter_server            2.17.0\n",
      "jupyter_server_terminals  0.5.3\n",
      "jupyterlab                4.4.6\n",
      "jupyterlab_pygments       0.3.0\n",
      "jupyterlab_server         2.27.3\n",
      "kiwisolver                1.4.8\n",
      "lark                      1.2.2\n",
      "MarkupSafe                3.0.2\n",
      "matplotlib                3.10.3\n",
      "matplotlib-inline         0.1.7\n",
      "mistune                   3.1.4\n",
      "nbclient                  0.10.2\n",
      "nbconvert                 7.16.6\n",
      "nbformat                  5.10.4\n",
      "nest-asyncio              1.6.0\n",
      "notebook                  7.4.5\n",
      "notebook_shim             0.2.4\n",
      "numpy                     2.2.5\n",
      "packaging                 25.0\n",
      "pandas                    2.2.3\n",
      "pandocfilters             1.5.1\n",
      "parso                     0.8.4\n",
      "patsy                     1.0.1\n",
      "pexpect                   4.9.0\n",
      "pillow                    11.2.1\n",
      "pip                       25.2\n",
      "platformdirs              4.3.8\n",
      "prometheus_client         0.22.1\n",
      "prompt_toolkit            3.0.51\n",
      "psutil                    7.0.0\n",
      "ptyprocess                0.7.0\n",
      "pure_eval                 0.2.3\n",
      "pycparser                 2.22\n",
      "Pygments                  2.19.2\n",
      "pyparsing                 3.2.3\n",
      "python-dateutil           2.9.0.post0\n",
      "python-json-logger        3.3.0\n",
      "pytz                      2025.2\n",
      "pywin32                   310\n",
      "pywinpty                  3.0.0\n",
      "PyYAML                    6.0.2\n",
      "pyzmq                     27.0.0\n",
      "referencing               0.36.2\n",
      "requests                  2.32.5\n",
      "rfc3339-validator         0.1.4\n",
      "rfc3986-validator         0.1.1\n",
      "rfc3987-syntax            1.1.0\n",
      "rpds-py                   0.27.1\n",
      "scipy                     1.15.3\n",
      "Send2Trash                1.8.3\n",
      "setuptools                80.9.0\n",
      "six                       1.17.0\n",
      "sniffio                   1.3.1\n",
      "soupsieve                 2.8\n",
      "stack-data                0.6.3\n",
      "statsmodels               0.14.4\n",
      "terminado                 0.18.1\n",
      "tinycss2                  1.4.0\n",
      "tornado                   6.5.1\n",
      "traitlets                 5.14.3\n",
      "types-python-dateutil     2.9.0.20250822\n",
      "typing_extensions         4.14.1\n",
      "tzdata                    2025.2\n",
      "uri-template              1.3.0\n",
      "urllib3                   2.5.0\n",
      "wcwidth                   0.2.13\n",
      "webcolors                 24.11.1\n",
      "webencodings              0.5.1\n",
      "websocket-client          1.8.0\n",
      "zipp                      3.23.0\n"
     ]
    }
   ],
   "source": [
    "!pip list"
   ]
  },
  {
   "cell_type": "markdown",
   "id": "766c7943",
   "metadata": {},
   "source": [
    "**It is there in the list!** Why can't python see it?\n",
    "\n",
    "## Answer: Virtual Environments\n",
    "\n",
    "Let's backtrack and review how we got here.  I'm using Positron, a flavor of VS Code specifically built for interactive data analysis.\n",
    "\n",
    "First, I created a new folder using the template.\n",
    "\n",
    "![](./assets/A.png){width:25%}\n",
    "\n",
    "Second, I opted to use the jupyter template because that is tailored for data analysis.\n",
    "\n",
    "![](./assets/B.png){width:25%}\n",
    "\n",
    "Third, I selected where to save the project folder and blew right past the options, opting to use the defaults.\n",
    "\n",
    "![](./assets/C.png){width:25%}\n",
    "\n",
    "You'll notice in the options, it mentions something about `virtual evironments`.  When the Positron completes the setup project, there is a hidden folder called `.venv`.\n",
    "\n",
    "![](./assets/D.png){width:25%}\n",
    "\n",
    "If we open the folder, we'll see that it is full of scripts and files, including executable files.\n",
    "\n",
    "### What are these files?\n",
    "\n",
    "These files were created in the initialization of the project folder.  The `.venv` folder contains information related to the virtual environment that was created specifically for this project.  It creates a self-contained workspace.  It has its own python executable and package library.\n",
    "\n",
    "### Why is this helpful?\n",
    "\n",
    "A self-contained workspace means you can change and tweak the set-up (including package versions) without impacting other projects.  For example, suppose project A relies on an older version of a package but project B needs the newer version of the package.  By using virtual environments, both versions of the package can be installed, avoiding a conflict that would arise if there was only one shared package library.\n",
    "\n",
    "### But why did `numpy` appear in the package list?\n",
    "\n",
    "Above, when we listed the packages with `!pip list`, it listed those in the gobal package library, not the package list for the virtual environment.  We can check that the `pip` command was executed with the global version of python, not the executable of python specificly created for the virtual environment in which we are operating."
   ]
  },
  {
   "cell_type": "code",
   "execution_count": 5,
   "id": "78143737",
   "metadata": {},
   "outputs": [
    {
     "name": "stdout",
     "output_type": "stream",
     "text": [
      "C:\\Users\\vzm6dw\\AppData\\Local\\Programs\\Python\\Python313\\Scripts\\pip.exe\n"
     ]
    }
   ],
   "source": [
    "# !which pip for mac/linux\n",
    "!where pip "
   ]
  },
  {
   "cell_type": "markdown",
   "id": "9c726518",
   "metadata": {},
   "source": [
    "If we want to see the path for the executable in the virtual environment, we can use the `sys` package.  The `sys` module is part of the standard library and is installed by default."
   ]
  },
  {
   "cell_type": "code",
   "execution_count": 6,
   "id": "3daaf29c",
   "metadata": {},
   "outputs": [
    {
     "name": "stdout",
     "output_type": "stream",
     "text": [
      "c:\\Users\\vzm6dw\\Documents\\GitHub\\DS-2026\\misc\\understanding-virtual-environments\\.venv\\Scripts\\python.exe\n"
     ]
    }
   ],
   "source": [
    "import sys\n",
    "print(sys.executable)"
   ]
  },
  {
   "cell_type": "markdown",
   "id": "65ed7d0b",
   "metadata": {},
   "source": [
    "You'll notice that the executable is a file in the local `.venv` folder.\n",
    "\n",
    "### OK, so how do I install `numpy` in the project's virtual environment?\n",
    "\n",
    "We'll need to install it again, specifically for this project.  As a consequence of the virtual environment setup, commonly used packages will be installed many times on your machine.\n",
    "\n",
    "You can use `pip install numpy` in the console or the specific executable (accessed from the sys package)."
   ]
  },
  {
   "cell_type": "code",
   "execution_count": 7,
   "id": "5a24eadc",
   "metadata": {},
   "outputs": [
    {
     "name": "stdout",
     "output_type": "stream",
     "text": [
      "Collecting numpy\n",
      "  Using cached numpy-2.3.2-cp313-cp313-win_amd64.whl.metadata (60 kB)\n",
      "Using cached numpy-2.3.2-cp313-cp313-win_amd64.whl (12.8 MB)\n",
      "Installing collected packages: numpy\n",
      "Successfully installed numpy-2.3.2\n"
     ]
    }
   ],
   "source": [
    "!{sys.executable} -m pip install numpy"
   ]
  },
  {
   "cell_type": "markdown",
   "id": "4b5dcaa5",
   "metadata": {},
   "source": [
    "Notice how the numpy files now appear in the `.venv` folder.\n",
    "\n",
    "![](./assets/F.png)"
   ]
  },
  {
   "cell_type": "markdown",
   "id": "5aa80e38",
   "metadata": {},
   "source": [
    "With `numpy` now installed in the project's virtual environment, we can use it."
   ]
  },
  {
   "cell_type": "code",
   "execution_count": 8,
   "id": "4f98fc7c",
   "metadata": {},
   "outputs": [
    {
     "name": "stdout",
     "output_type": "stream",
     "text": [
      "[273 202 353  72 311]\n"
     ]
    }
   ],
   "source": [
    "import numpy as np\n",
    "A = np.random.choice(range(1,366), 5, replace=True)\n",
    "print(A)"
   ]
  }
 ],
 "metadata": {
  "language_info": {
   "name": "python"
  }
 },
 "nbformat": 4,
 "nbformat_minor": 5
}
